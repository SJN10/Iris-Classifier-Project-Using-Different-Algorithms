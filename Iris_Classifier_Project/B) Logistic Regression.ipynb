{
 "cells": [
  {
   "cell_type": "markdown",
   "id": "f09975b2",
   "metadata": {},
   "source": [
    "# B) Logistic Regression to evaluate the performance in Iris dataset"
   ]
  },
  {
   "cell_type": "code",
   "execution_count": 1,
   "id": "d2e21e26",
   "metadata": {},
   "outputs": [],
   "source": [
    "from sklearn.datasets import load_iris   # (Loading data from web)\n",
    "from sklearn.model_selection import train_test_split\n",
    "from sklearn.metrics import accuracy_score\n",
    "X,y=load_iris(return_X_y=True)"
   ]
  },
  {
   "cell_type": "code",
   "execution_count": 15,
   "id": "749d142d",
   "metadata": {},
   "outputs": [
    {
     "name": "stdout",
     "output_type": "stream",
     "text": [
      "38\n"
     ]
    }
   ],
   "source": [
    "X_train,X_test,y_train,y_test=train_test_split(X,y,test_size=.25)\n",
    "print(len(X_test))"
   ]
  },
  {
   "cell_type": "code",
   "execution_count": 16,
   "id": "41a03094",
   "metadata": {},
   "outputs": [
    {
     "data": {
      "text/plain": [
       "LogisticRegression()"
      ]
     },
     "execution_count": 16,
     "metadata": {},
     "output_type": "execute_result"
    }
   ],
   "source": [
    "from sklearn.linear_model import LogisticRegression\n",
    "model_LR=LogisticRegression()\n",
    "model_LR.fit(X_train,y_train)"
   ]
  },
  {
   "cell_type": "code",
   "execution_count": 17,
   "id": "24f292a4",
   "metadata": {},
   "outputs": [
    {
     "name": "stdout",
     "output_type": "stream",
     "text": [
      "ACCURACY SCORE:: 92.10526315789474\n"
     ]
    }
   ],
   "source": [
    "prediction2=model_LR.predict(X_test)\n",
    "print(\"ACCURACY SCORE::\",accuracy_score(y_test,prediction2)*100)"
   ]
  },
  {
   "cell_type": "code",
   "execution_count": null,
   "id": "8268664c",
   "metadata": {},
   "outputs": [],
   "source": []
  },
  {
   "cell_type": "markdown",
   "id": "aef7c443",
   "metadata": {},
   "source": [
    "# For Different split ratio ::::---->\n",
    "         Serial No.                        Test_Size                              Accuracy_Score\n",
    "\n",
    "                1.                            0.1                                  93.33333333333333 %\n",
    "                2.                            0.2                                  96.66667 %\n",
    "                3.                            0.3                                  97.77777777777777 %\n",
    "                4.                            0.25                                 81.57894736842105 %\n",
    "                5.                            0.15                                 100 %"
   ]
  },
  {
   "cell_type": "code",
   "execution_count": 18,
   "id": "2b8cb69b",
   "metadata": {},
   "outputs": [
    {
     "name": "stdout",
     "output_type": "stream",
     "text": [
      "              precision    recall  f1-score   support\n",
      "\n",
      "           0       1.00      1.00      1.00        13\n",
      "           1       0.80      1.00      0.89        12\n",
      "           2       1.00      0.77      0.87        13\n",
      "\n",
      "    accuracy                           0.92        38\n",
      "   macro avg       0.93      0.92      0.92        38\n",
      "weighted avg       0.94      0.92      0.92        38\n",
      "\n"
     ]
    }
   ],
   "source": [
    "from sklearn.metrics import classification_report\n",
    "print(classification_report(y_test,prediction2))"
   ]
  }
 ],
 "metadata": {
  "kernelspec": {
   "display_name": "Python 3 (ipykernel)",
   "language": "python",
   "name": "python3"
  },
  "language_info": {
   "codemirror_mode": {
    "name": "ipython",
    "version": 3
   },
   "file_extension": ".py",
   "mimetype": "text/x-python",
   "name": "python",
   "nbconvert_exporter": "python",
   "pygments_lexer": "ipython3",
   "version": "3.9.13"
  }
 },
 "nbformat": 4,
 "nbformat_minor": 5
}
