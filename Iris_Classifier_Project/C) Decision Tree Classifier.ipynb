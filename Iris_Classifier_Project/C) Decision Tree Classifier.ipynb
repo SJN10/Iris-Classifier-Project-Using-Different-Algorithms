{
 "cells": [
  {
   "cell_type": "markdown",
   "id": "2e5f1d64",
   "metadata": {},
   "source": [
    "# C) Decision Tree Classifier to evaluate the performance in Iris dataset"
   ]
  },
  {
   "cell_type": "code",
   "execution_count": 1,
   "id": "7f727889",
   "metadata": {},
   "outputs": [],
   "source": [
    "from sklearn.datasets import load_iris   # (Loading data from web)\n",
    "from sklearn.model_selection import train_test_split\n",
    "from sklearn.metrics import accuracy_score\n",
    "X,y=load_iris(return_X_y=True)"
   ]
  },
  {
   "cell_type": "code",
   "execution_count": 2,
   "id": "e873b3dc",
   "metadata": {},
   "outputs": [
    {
     "name": "stdout",
     "output_type": "stream",
     "text": [
      "38\n"
     ]
    }
   ],
   "source": [
    "X_train,X_test,y_train,y_test=train_test_split(X,y,test_size=.25)\n",
    "print(len(X_test))"
   ]
  },
  {
   "cell_type": "code",
   "execution_count": 3,
   "id": "ffc89946",
   "metadata": {},
   "outputs": [
    {
     "data": {
      "text/plain": [
       "DecisionTreeClassifier()"
      ]
     },
     "execution_count": 3,
     "metadata": {},
     "output_type": "execute_result"
    }
   ],
   "source": [
    "from sklearn.tree import DecisionTreeClassifier\n",
    "model_DTC=DecisionTreeClassifier()\n",
    "model_DTC.fit(X_train,y_train)"
   ]
  },
  {
   "cell_type": "code",
   "execution_count": 4,
   "id": "fc15d4a3",
   "metadata": {},
   "outputs": [
    {
     "name": "stdout",
     "output_type": "stream",
     "text": [
      "ACCURACY SCORE:: 100.0\n"
     ]
    }
   ],
   "source": [
    "prediction3=model_DTC.predict(X_test)\n",
    "print(\"ACCURACY SCORE::\",accuracy_score(y_test,prediction3)*100)"
   ]
  },
  {
   "cell_type": "code",
   "execution_count": null,
   "id": "bba83fde",
   "metadata": {},
   "outputs": [],
   "source": []
  },
  {
   "cell_type": "markdown",
   "id": "a439a096",
   "metadata": {},
   "source": [
    "# For Different split ratio ::::---->\n",
    "            Serial No.                      Test_Size                          Accuracy_Score\n",
    "\n",
    "                1.                            0.1                                 93.33333333333333 %\n",
    "                2.                            0.2                                 93.33333333333333 %\n",
    "                3.                            0.3                                 97.77777777777777 %\n",
    "                4.                            0.25                                81.57894736842105 %\n",
    "                5.                            0.15                                100 %"
   ]
  },
  {
   "cell_type": "code",
   "execution_count": 6,
   "id": "4f5f11ac",
   "metadata": {},
   "outputs": [
    {
     "name": "stdout",
     "output_type": "stream",
     "text": [
      "              precision    recall  f1-score   support\n",
      "\n",
      "           0       1.00      1.00      1.00        14\n",
      "           1       1.00      1.00      1.00        10\n",
      "           2       1.00      1.00      1.00        14\n",
      "\n",
      "    accuracy                           1.00        38\n",
      "   macro avg       1.00      1.00      1.00        38\n",
      "weighted avg       1.00      1.00      1.00        38\n",
      "\n"
     ]
    }
   ],
   "source": [
    "from sklearn.metrics import classification_report\n",
    "print(classification_report(y_test,prediction3))"
   ]
  }
 ],
 "metadata": {
  "kernelspec": {
   "display_name": "Python 3 (ipykernel)",
   "language": "python",
   "name": "python3"
  },
  "language_info": {
   "codemirror_mode": {
    "name": "ipython",
    "version": 3
   },
   "file_extension": ".py",
   "mimetype": "text/x-python",
   "name": "python",
   "nbconvert_exporter": "python",
   "pygments_lexer": "ipython3",
   "version": "3.9.13"
  }
 },
 "nbformat": 4,
 "nbformat_minor": 5
}
