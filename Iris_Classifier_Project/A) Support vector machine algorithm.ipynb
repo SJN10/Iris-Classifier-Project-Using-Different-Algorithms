{
 "cells": [
  {
   "cell_type": "markdown",
   "id": "f51e3ef9",
   "metadata": {},
   "source": [
    "#   A) Support vector machine algorithm to evaluate the performance in Iris dataset"
   ]
  },
  {
   "cell_type": "code",
   "execution_count": 1,
   "id": "aa0dd78b",
   "metadata": {},
   "outputs": [],
   "source": [
    "from sklearn.datasets import load_iris   # (Loading data from web)\n",
    "from sklearn.model_selection import train_test_split\n",
    "from sklearn.metrics import accuracy_score\n",
    "X,y=load_iris(return_X_y=True)"
   ]
  },
  {
   "cell_type": "code",
   "execution_count": 6,
   "id": "7a12c705",
   "metadata": {},
   "outputs": [
    {
     "name": "stdout",
     "output_type": "stream",
     "text": [
      "38\n"
     ]
    }
   ],
   "source": [
    "X_train,X_test,y_train,y_test=train_test_split(X,y,test_size=.25)\n",
    "print(len(X_test))"
   ]
  },
  {
   "cell_type": "code",
   "execution_count": 7,
   "id": "e1218d6a",
   "metadata": {},
   "outputs": [
    {
     "data": {
      "text/plain": [
       "SVC()"
      ]
     },
     "execution_count": 7,
     "metadata": {},
     "output_type": "execute_result"
    }
   ],
   "source": [
    "from sklearn.svm import SVC\n",
    "model_svc=SVC()\n",
    "model_svc.fit(X_train,y_train)"
   ]
  },
  {
   "cell_type": "code",
   "execution_count": 9,
   "id": "908795ad",
   "metadata": {},
   "outputs": [
    {
     "name": "stdout",
     "output_type": "stream",
     "text": [
      "ACCURACY SCORE:: 97.36842105263158\n"
     ]
    }
   ],
   "source": [
    "prediction1=model_svc.predict(X_test)\n",
    "print(\"ACCURACY SCORE::\",accuracy_score(y_test,prediction1)*100) "
   ]
  },
  {
   "cell_type": "code",
   "execution_count": null,
   "id": "a810f070",
   "metadata": {},
   "outputs": [],
   "source": []
  },
  {
   "cell_type": "markdown",
   "id": "983f5deb",
   "metadata": {},
   "source": [
    "# For Different split ratio ::::---->\n",
    "         Serial No.                          Test_Size                          Accuracy_Score\n",
    "\n",
    "                1.                            0.1                                 86.66666666666667 %\n",
    "                2.                            0.2                                 96.6667 %\n",
    "                3.                            0.3                                 97.7777 %\n",
    "                4.                            0.25                                84.21052631578947 %\n",
    "                5.                            0.15                                100 %"
   ]
  },
  {
   "cell_type": "code",
   "execution_count": 11,
   "id": "b80ebd96",
   "metadata": {},
   "outputs": [
    {
     "name": "stdout",
     "output_type": "stream",
     "text": [
      "              precision    recall  f1-score   support\n",
      "\n",
      "           0       1.00      1.00      1.00         9\n",
      "           1       1.00      0.93      0.96        14\n",
      "           2       0.94      1.00      0.97        15\n",
      "\n",
      "    accuracy                           0.97        38\n",
      "   macro avg       0.98      0.98      0.98        38\n",
      "weighted avg       0.98      0.97      0.97        38\n",
      "\n"
     ]
    }
   ],
   "source": [
    "from sklearn.metrics import classification_report\n",
    "print(classification_report(y_test,prediction1))"
   ]
  }
 ],
 "metadata": {
  "kernelspec": {
   "display_name": "Python 3 (ipykernel)",
   "language": "python",
   "name": "python3"
  },
  "language_info": {
   "codemirror_mode": {
    "name": "ipython",
    "version": 3
   },
   "file_extension": ".py",
   "mimetype": "text/x-python",
   "name": "python",
   "nbconvert_exporter": "python",
   "pygments_lexer": "ipython3",
   "version": "3.9.13"
  }
 },
 "nbformat": 4,
 "nbformat_minor": 5
}
