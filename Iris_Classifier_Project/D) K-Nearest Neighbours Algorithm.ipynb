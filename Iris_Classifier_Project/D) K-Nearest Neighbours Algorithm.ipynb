{
 "cells": [
  {
   "cell_type": "markdown",
   "id": "eeca731f",
   "metadata": {},
   "source": [
    "# D) K-Nearest Neighbours to evaluate the performance in Iris dataset"
   ]
  },
  {
   "cell_type": "code",
   "execution_count": 1,
   "id": "d870a856",
   "metadata": {},
   "outputs": [],
   "source": [
    "from sklearn.datasets import load_iris   # (Loading data from web)\n",
    "from sklearn.model_selection import train_test_split\n",
    "from sklearn.metrics import accuracy_score\n",
    "X,y=load_iris(return_X_y=True)"
   ]
  },
  {
   "cell_type": "code",
   "execution_count": 2,
   "id": "812ec420",
   "metadata": {},
   "outputs": [
    {
     "name": "stdout",
     "output_type": "stream",
     "text": [
      "38\n"
     ]
    }
   ],
   "source": [
    "X_train,X_test,y_train,y_test=train_test_split(X,y,test_size=.25)\n",
    "print(len(X_test))"
   ]
  },
  {
   "cell_type": "code",
   "execution_count": 3,
   "id": "a9c9da02",
   "metadata": {},
   "outputs": [
    {
     "data": {
      "text/plain": [
       "KNeighborsClassifier()"
      ]
     },
     "execution_count": 3,
     "metadata": {},
     "output_type": "execute_result"
    }
   ],
   "source": [
    "from sklearn.neighbors import KNeighborsClassifier\n",
    "import warnings\n",
    "warnings.filterwarnings(\"ignore\")\n",
    "model_KNC=KNeighborsClassifier()\n",
    "model_KNC.fit(X_train,y_train)"
   ]
  },
  {
   "cell_type": "code",
   "execution_count": 4,
   "id": "b0435f80",
   "metadata": {},
   "outputs": [
    {
     "name": "stdout",
     "output_type": "stream",
     "text": [
      "ACCURACY SCORE:: 94.73684210526315\n"
     ]
    }
   ],
   "source": [
    "prediction4=model_KNC.predict(X_test)\n",
    "from sklearn.metrics import accuracy_score\n",
    "print(\"ACCURACY SCORE::\",accuracy_score(y_test,prediction4)*100)"
   ]
  },
  {
   "cell_type": "code",
   "execution_count": null,
   "id": "9cd3d8ad",
   "metadata": {},
   "outputs": [],
   "source": []
  },
  {
   "cell_type": "markdown",
   "id": "3a504e63",
   "metadata": {},
   "source": [
    "# For Different split ratio ::::---->\n",
    "         Serial No.                        Test_Size                              Accuracy_Score\n",
    "\n",
    "                1.                            0.1                                  93.33333333333333 %\n",
    "                2.                            0.2                                  96.66667 %\n",
    "                3.                            0.3                                  97.77777777777777 %\n",
    "                4.                            0.25                                 92.10526315789474 %\n",
    "                5.                            0.15                                 100 %"
   ]
  },
  {
   "cell_type": "code",
   "execution_count": 5,
   "id": "f5759ef0",
   "metadata": {},
   "outputs": [
    {
     "name": "stdout",
     "output_type": "stream",
     "text": [
      "              precision    recall  f1-score   support\n",
      "\n",
      "           0       1.00      1.00      1.00         9\n",
      "           1       0.91      0.91      0.91        11\n",
      "           2       0.94      0.94      0.94        18\n",
      "\n",
      "    accuracy                           0.95        38\n",
      "   macro avg       0.95      0.95      0.95        38\n",
      "weighted avg       0.95      0.95      0.95        38\n",
      "\n"
     ]
    }
   ],
   "source": [
    "from sklearn.metrics import classification_report\n",
    "print(classification_report(y_test,prediction4))"
   ]
  }
 ],
 "metadata": {
  "kernelspec": {
   "display_name": "Python 3 (ipykernel)",
   "language": "python",
   "name": "python3"
  },
  "language_info": {
   "codemirror_mode": {
    "name": "ipython",
    "version": 3
   },
   "file_extension": ".py",
   "mimetype": "text/x-python",
   "name": "python",
   "nbconvert_exporter": "python",
   "pygments_lexer": "ipython3",
   "version": "3.9.13"
  }
 },
 "nbformat": 4,
 "nbformat_minor": 5
}
