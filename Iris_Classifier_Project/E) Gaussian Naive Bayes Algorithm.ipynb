{
 "cells": [
  {
   "cell_type": "markdown",
   "id": "84c9fb97",
   "metadata": {},
   "source": [
    "# E) Gaussian Naive Bayes to evaluate the performance in Iris dataset"
   ]
  },
  {
   "cell_type": "code",
   "execution_count": 1,
   "id": "62e099db",
   "metadata": {},
   "outputs": [],
   "source": [
    "from sklearn.datasets import load_iris   # (Loading data from web)\n",
    "from sklearn.model_selection import train_test_split\n",
    "from sklearn.metrics import accuracy_score\n",
    "X,y=load_iris(return_X_y=True)"
   ]
  },
  {
   "cell_type": "code",
   "execution_count": 2,
   "id": "5c252cbe",
   "metadata": {},
   "outputs": [
    {
     "name": "stdout",
     "output_type": "stream",
     "text": [
      "38\n"
     ]
    }
   ],
   "source": [
    "X_train,X_test,y_train,y_test=train_test_split(X,y,test_size=.25)\n",
    "print(len(X_test))"
   ]
  },
  {
   "cell_type": "code",
   "execution_count": 3,
   "id": "423bcebd",
   "metadata": {},
   "outputs": [
    {
     "data": {
      "text/plain": [
       "GaussianNB()"
      ]
     },
     "execution_count": 3,
     "metadata": {},
     "output_type": "execute_result"
    }
   ],
   "source": [
    "from sklearn.naive_bayes import GaussianNB\n",
    "model_GNB = GaussianNB()\n",
    "model_GNB.fit(X_train, y_train)"
   ]
  },
  {
   "cell_type": "code",
   "execution_count": 5,
   "id": "648f2c9d",
   "metadata": {},
   "outputs": [
    {
     "name": "stdout",
     "output_type": "stream",
     "text": [
      "ACCURACY SCORE:: 97.36842105263158\n"
     ]
    }
   ],
   "source": [
    "prediction5=model_GNB.predict(X_test)\n",
    "print(\"ACCURACY SCORE::\",accuracy_score(y_test,prediction5)*100)"
   ]
  },
  {
   "cell_type": "code",
   "execution_count": null,
   "id": "54e453c9",
   "metadata": {},
   "outputs": [],
   "source": []
  },
  {
   "cell_type": "markdown",
   "id": "cdb9b965",
   "metadata": {},
   "source": [
    "# For Different split ratio ::::---->\n",
    "         Serial No.                        Test_Size                              Accuracy_Score\n",
    "\n",
    "                1.                            0.1                                  100 %\n",
    "                2.                            0.2                                  100 %\n",
    "                3.                            0.3                                  95.55556 %\n",
    "                4.                            0.25                                 89.47368421052632 %\n",
    "                5.                            0.15                                 100 %"
   ]
  },
  {
   "cell_type": "code",
   "execution_count": 7,
   "id": "a24192b5",
   "metadata": {},
   "outputs": [
    {
     "name": "stdout",
     "output_type": "stream",
     "text": [
      "              precision    recall  f1-score   support\n",
      "\n",
      "           0       1.00      1.00      1.00        16\n",
      "           1       0.92      1.00      0.96        12\n",
      "           2       1.00      0.90      0.95        10\n",
      "\n",
      "    accuracy                           0.97        38\n",
      "   macro avg       0.97      0.97      0.97        38\n",
      "weighted avg       0.98      0.97      0.97        38\n",
      "\n"
     ]
    }
   ],
   "source": [
    "from sklearn.metrics import classification_report\n",
    "print(classification_report(y_test,prediction5))"
   ]
  }
 ],
 "metadata": {
  "kernelspec": {
   "display_name": "Python 3 (ipykernel)",
   "language": "python",
   "name": "python3"
  },
  "language_info": {
   "codemirror_mode": {
    "name": "ipython",
    "version": 3
   },
   "file_extension": ".py",
   "mimetype": "text/x-python",
   "name": "python",
   "nbconvert_exporter": "python",
   "pygments_lexer": "ipython3",
   "version": "3.9.13"
  }
 },
 "nbformat": 4,
 "nbformat_minor": 5
}
